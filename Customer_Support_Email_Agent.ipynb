{
  "nbformat": 4,
  "nbformat_minor": 0,
  "metadata": {
    "colab": {
      "provenance": [],
      "authorship_tag": "ABX9TyMSmiTJfcHASSWESX7yjZ3o",
      "include_colab_link": true
    },
    "kernelspec": {
      "name": "python3",
      "display_name": "Python 3"
    },
    "language_info": {
      "name": "python"
    }
  },
  "cells": [
    {
      "cell_type": "markdown",
      "metadata": {
        "id": "view-in-github",
        "colab_type": "text"
      },
      "source": [
        "<a href=\"https://colab.research.google.com/github/JayNguyen-123/Customer_Email_Support_Agent/blob/main/Customer_Support_Email_Agent.ipynb\" target=\"_parent\"><img src=\"https://colab.research.google.com/assets/colab-badge.svg\" alt=\"Open In Colab\"/></a>"
      ]
    },
    {
      "cell_type": "markdown",
      "source": [
        "### CUSTOMER SUPPORT EMAIL AGENTIC AI\n",
        "Agentic AI refers to AI systems that can autonomously plan, execute, and adapt to achieve goals in dynamic environments, unlike systems that simply react to input. These systems use sophisticated reasoning to make decisions, learn from feedback, and perform actions by interacting with tools and other systems. Think of it as AI that \"does\" instead of just \"creates\" content, often working collaboratively with humans.\n",
        "\n",
        "\n",
        "\n",
        "\n"
      ],
      "metadata": {
        "id": "TtE5u1TwIaBB"
      }
    },
    {
      "cell_type": "markdown",
      "source": [
        "### Designing the Basic Chains\n",
        "\n",
        "- Categorize Email : Identify the type of email(e.g., sales,custom inquiry,etc.)\n",
        "- Research Router : Direct the email’s context to the appropriate search method.\n",
        "- Search Keywords : Extract relevant keywords for gathering additional information.\n",
        "- Write Draft Email : Use the research and email context to generate a thoughtful reply.\n",
        "- Rewrite Router : Determine if the draft requires rewriting or further improvement.\n",
        "- Draft Email Analysis : Evaluate the draft’s coherence, relevance, and tone.\n",
        "- Rewrite Email : Finalize the email by refining its tone and content."
      ],
      "metadata": {
        "id": "pZUZIxYMCnq2"
      }
    },
    {
      "cell_type": "code",
      "source": [
        "!pip -q install langchain-groq duckduckgo-search\n",
        "!pip -q install -U langchain_community tiktoken langchainhub\n",
        "!pip -q install -U langchain langgraph tavily-python\n"
      ],
      "metadata": {
        "colab": {
          "base_uri": "https://localhost:8080/"
        },
        "id": "8t7yyVAxmYkz",
        "outputId": "5bec84b0-0991-45b6-849d-cb53d3034c07"
      },
      "execution_count": 1,
      "outputs": [
        {
          "output_type": "stream",
          "name": "stdout",
          "text": [
            "\u001b[?25l   \u001b[90m━━━━━━━━━━━━━━━━━━━━━━━━━━━━━━━━━━━━━━━━\u001b[0m \u001b[32m0.0/135.4 kB\u001b[0m \u001b[31m?\u001b[0m eta \u001b[36m-:--:--\u001b[0m\r\u001b[2K   \u001b[90m━━━━━━━━━━━━━━━━━━━━━━━━━━━━━━━━━━━━━━━━\u001b[0m \u001b[32m135.4/135.4 kB\u001b[0m \u001b[31m12.0 MB/s\u001b[0m eta \u001b[36m0:00:00\u001b[0m\n",
            "\u001b[?25h\u001b[?25l   \u001b[90m━━━━━━━━━━━━━━━━━━━━━━━━━━━━━━━━━━━━━━━━\u001b[0m \u001b[32m0.0/467.2 kB\u001b[0m \u001b[31m?\u001b[0m eta \u001b[36m-:--:--\u001b[0m\r\u001b[2K   \u001b[90m━━━━━━━━━━━━━━━━━━━━━━━━━━━━━━━━━━━━━━━━\u001b[0m \u001b[32m467.2/467.2 kB\u001b[0m \u001b[31m25.3 MB/s\u001b[0m eta \u001b[36m0:00:00\u001b[0m\n",
            "\u001b[?25h\u001b[?25l   \u001b[90m━━━━━━━━━━━━━━━━━━━━━━━━━━━━━━━━━━━━━━━━\u001b[0m \u001b[32m0.0/3.3 MB\u001b[0m \u001b[31m?\u001b[0m eta \u001b[36m-:--:--\u001b[0m\r\u001b[2K   \u001b[91m━━━━━━━━━━━━━━━━━━━━━━━━━━━━━━━━━━━━━━━\u001b[0m\u001b[91m╸\u001b[0m \u001b[32m3.3/3.3 MB\u001b[0m \u001b[31m181.5 MB/s\u001b[0m eta \u001b[36m0:00:01\u001b[0m\r\u001b[2K   \u001b[90m━━━━━━━━━━━━━━━━━━━━━━━━━━━━━━━━━━━━━━━━\u001b[0m \u001b[32m3.3/3.3 MB\u001b[0m \u001b[31m83.5 MB/s\u001b[0m eta \u001b[36m0:00:00\u001b[0m\n",
            "\u001b[?25h\u001b[31mERROR: pip's dependency resolver does not currently take into account all the packages that are installed. This behaviour is the source of the following dependency conflicts.\n",
            "langchain 0.3.27 requires langchain-core<1.0.0,>=0.3.72, but you have langchain-core 1.0.0 which is incompatible.\u001b[0m\u001b[31m\n",
            "\u001b[2K   \u001b[90m━━━━━━━━━━━━━━━━━━━━━━━━━━━━━━━━━━━━━━━━\u001b[0m \u001b[32m2.5/2.5 MB\u001b[0m \u001b[31m35.5 MB/s\u001b[0m eta \u001b[36m0:00:00\u001b[0m\n",
            "\u001b[2K   \u001b[90m━━━━━━━━━━━━━━━━━━━━━━━━━━━━━━━━━━━━━━━━\u001b[0m \u001b[32m1.0/1.0 MB\u001b[0m \u001b[31m44.3 MB/s\u001b[0m eta \u001b[36m0:00:00\u001b[0m\n",
            "\u001b[2K   \u001b[90m━━━━━━━━━━━━━━━━━━━━━━━━━━━━━━━━━━━━━━━━\u001b[0m \u001b[32m65.5/65.5 kB\u001b[0m \u001b[31m4.5 MB/s\u001b[0m eta \u001b[36m0:00:00\u001b[0m\n",
            "\u001b[2K   \u001b[90m━━━━━━━━━━━━━━━━━━━━━━━━━━━━━━━━━━━━━━━━\u001b[0m \u001b[32m64.7/64.7 kB\u001b[0m \u001b[31m4.1 MB/s\u001b[0m eta \u001b[36m0:00:00\u001b[0m\n",
            "\u001b[2K   \u001b[90m━━━━━━━━━━━━━━━━━━━━━━━━━━━━━━━━━━━━━━━━\u001b[0m \u001b[32m50.9/50.9 kB\u001b[0m \u001b[31m3.4 MB/s\u001b[0m eta \u001b[36m0:00:00\u001b[0m\n",
            "\u001b[?25h\u001b[31mERROR: pip's dependency resolver does not currently take into account all the packages that are installed. This behaviour is the source of the following dependency conflicts.\n",
            "google-colab 1.0.0 requires requests==2.32.4, but you have requests 2.32.5 which is incompatible.\n",
            "langchain 0.3.27 requires langchain-core<1.0.0,>=0.3.72, but you have langchain-core 1.0.0 which is incompatible.\n",
            "langchain 0.3.27 requires langchain-text-splitters<1.0.0,>=0.3.9, but you have langchain-text-splitters 1.0.0 which is incompatible.\u001b[0m\u001b[31m\n",
            "\u001b[2K   \u001b[90m━━━━━━━━━━━━━━━━━━━━━━━━━━━━━━━━━━━━━━━━\u001b[0m \u001b[32m106.2/106.2 kB\u001b[0m \u001b[31m7.7 MB/s\u001b[0m eta \u001b[36m0:00:00\u001b[0m\n",
            "\u001b[2K   \u001b[90m━━━━━━━━━━━━━━━━━━━━━━━━━━━━━━━━━━━━━━━━\u001b[0m \u001b[32m155.4/155.4 kB\u001b[0m \u001b[31m12.5 MB/s\u001b[0m eta \u001b[36m0:00:00\u001b[0m\n",
            "\u001b[2K   \u001b[90m━━━━━━━━━━━━━━━━━━━━━━━━━━━━━━━━━━━━━━━━\u001b[0m \u001b[32m45.8/45.8 kB\u001b[0m \u001b[31m3.1 MB/s\u001b[0m eta \u001b[36m0:00:00\u001b[0m\n",
            "\u001b[2K   \u001b[90m━━━━━━━━━━━━━━━━━━━━━━━━━━━━━━━━━━━━━━━━\u001b[0m \u001b[32m56.8/56.8 kB\u001b[0m \u001b[31m4.1 MB/s\u001b[0m eta \u001b[36m0:00:00\u001b[0m\n",
            "\u001b[2K   \u001b[90m━━━━━━━━━━━━━━━━━━━━━━━━━━━━━━━━━━━━━━━━\u001b[0m \u001b[32m207.6/207.6 kB\u001b[0m \u001b[31m14.9 MB/s\u001b[0m eta \u001b[36m0:00:00\u001b[0m\n",
            "\u001b[?25h"
          ]
        }
      ]
    },
    {
      "cell_type": "code",
      "source": [
        "# Setting up the Environment\n",
        "import os\n",
        "from google.colab import userdata\n",
        "from pprint import pprint\n",
        "os.environ[\"GROQ_API_KEY\"] = userdata.get('GROQ_API_KEY')\n",
        "os.environ[\"TAVILY_API_KEY\"] = userdata.get('TAVILY_API_KEY')"
      ],
      "metadata": {
        "id": "Kejok6186Y-F"
      },
      "execution_count": 2,
      "outputs": []
    },
    {
      "cell_type": "code",
      "source": [
        "from langchain_groq import ChatGroq\n",
        "\n",
        "GROQ_LLM = ChatGroq(\n",
        "    model=\"llama-3.3-70b-versatile\",\n",
        ")"
      ],
      "metadata": {
        "id": "0-lBDHeI7HRu"
      },
      "execution_count": 8,
      "outputs": []
    },
    {
      "cell_type": "code",
      "source": [
        "# Building Prompt Templates\n",
        "from langchain_core.prompts import ChatPromptTemplate\n",
        "from langchain_core.prompts import PromptTemplate\n",
        "from langchain_core.output_parsers import StrOutputParser\n",
        "from langchain_core.output_parsers import JsonOutputParser\n",
        "\n",
        "# Logging outputs for debugging\n",
        "def write_markdown_file(content, filename):\n",
        "  \"\"\"\n",
        "  Writes the given content as a markdown file to the local directory.\n",
        "\n",
        "  Args:\n",
        "      content: The string content to write to the file.\n",
        "      filename: The filename to save the file as.\n",
        "      \"\"\"\n",
        "  with open(f\"{filename}.md\", \"w\") as f:\n",
        "    f.write(content)\n"
      ],
      "metadata": {
        "id": "7O5RxNX97j4W"
      },
      "execution_count": 9,
      "outputs": []
    },
    {
      "cell_type": "markdown",
      "source": [
        "### Categorizing Emails: Identify the type of email(e.g., sales,custom inquiry,etc.)"
      ],
      "metadata": {
        "id": "fjWEdjoMDQ9Q"
      }
    },
    {
      "cell_type": "code",
      "source": [
        "\n",
        "from langchain_core.prompts import PromptTemplate\n",
        "\n",
        "prompt = PromptTemplate(\n",
        "    template=\"\"\"<|begin_of_text|><|start_header_id|>system<|end_header_id|>\n",
        "    You are an Email Categorizer Agent. You are a master at understanding what a customer wants when they write an email and are able to categorize it in s useful way.\n",
        "\n",
        "    <|eot_id|><|start_header_id|>user<|end_header_id|>\n",
        "    Conduct a comprehensive analysis of the email provided and categorize it into one of the folloeing categories:\n",
        "        price_enquiry - used when someone is asking for information about pricing \\\n",
        "        customer_complain - used when someone is complaining about something \\\n",
        "        product_enquiry - used when someone is asking for information about a product features, benefit, or service but not about pricing \\\n",
        "        customer_feedback - used when someone is giving feedback about a product \\\n",
        "        off_topic - when it doesn't relate to any other category.\n",
        "\n",
        "    Output a single category only from the type ('price_enquiry', 'customer_complain', 'product_enquiry', 'customer_feedback', 'off_topic') \\\n",
        "    e.g.:\n",
        "         'price_enquiry'\n",
        "\n",
        "    EMAIL CONTENT: \\n\\n {initial_email} \\n\\n\n",
        "    <|eot_id|>\n",
        "    <|start_header_id|>assistant<|end_header_id|>\n",
        "    \"\"\",\n",
        "    input_variables = [\"initial_email\"],\n",
        "  )"
      ],
      "metadata": {
        "id": "T6i2x95p-ZlT"
      },
      "execution_count": 10,
      "outputs": []
    },
    {
      "cell_type": "code",
      "source": [
        "# Connecting the Prompt with Groq's LLM\n",
        "from langchain_core.output_parsers import StrOutputParser\n",
        "\n",
        "email_category_generator = prompt | GROQ_LLM | StrOutputParser()\n"
      ],
      "metadata": {
        "id": "32gHYV1MBa4Y"
      },
      "execution_count": 11,
      "outputs": []
    },
    {
      "cell_type": "code",
      "source": [
        "# Testing the Email Categorization\n",
        "EMAIL = \"\"\"\n",
        "Hi there, I am emailing to say that I had a wonderful stay at your resort last week. \\n\n",
        "\n",
        "I really appreciate what your staff did.\n",
        "\n",
        "Thanks,\n",
        "Jay\n",
        "\"\"\"\n",
        "\n",
        "result = email_category_generator.invoke({\"initial_email\": EMAIL})\n",
        "print(result)\n"
      ],
      "metadata": {
        "colab": {
          "base_uri": "https://localhost:8080/"
        },
        "id": "9O2DYlU9B0AD",
        "outputId": "23c04aca-63fe-4b8c-d2ef-2d34f94de229"
      },
      "execution_count": 12,
      "outputs": [
        {
          "output_type": "stream",
          "name": "stdout",
          "text": [
            "'customer_feedback'\n"
          ]
        }
      ]
    },
    {
      "cell_type": "markdown",
      "source": [
        "### Designing a Research Router: Direct the email’s context to the appropriate search method."
      ],
      "metadata": {
        "id": "7972A46XDX-t"
      }
    },
    {
      "cell_type": "code",
      "source": [
        "research_router_prompt = PromptTemplate(\n",
        "    template=\"\"\"<|begin_of_text|><|start_header_id|>system<|end_header_id|>\n",
        "You are an expert at reading the initial email and routing web search\n",
        "or directly to a draft email.\n",
        "\n",
        "Use the following criteria to decide how to route the email:\n",
        "\n",
        "If the initial email only requires a simple response:\n",
        "- Choose 'draft_email' for questions you can easily answer,\n",
        "  including prompt engineering and adversarial attacks.\n",
        "- If the email is just saying thank you, etc., choose 'draft_email.'\n",
        "\n",
        "Otherwise, use 'research_info.'\n",
        "\n",
        "Give a binary choice 'research_info' or 'draft_email' based on the question.\n",
        "Return a JSON with a single key 'router_decision' and no preamble or explanation.\n",
        "Use both the initial email and the email category to make your decision.\n",
        "<|eot_id|><|start_header_id|>user<|end_header_id|>\n",
        "Email to route INITIAL_EMAIL: {initial_email}\n",
        "EMAIL_CATEGORY: {email_category}\n",
        "<|eot_id|><|start_header_id|>assistant<|end_header_id|>\n",
        "\"\"\",\n",
        "    input_variables=[\"initial_email\", \"email_category\"],\n",
        ")\n"
      ],
      "metadata": {
        "id": "RWoLK5edDIRi"
      },
      "execution_count": 16,
      "outputs": []
    },
    {
      "cell_type": "code",
      "source": [
        "# Integrating the Prompt with Groq's LLM\n",
        "from langchain_core.output_parsers import JsonOutputParser\n",
        "\n",
        "research_router = research_router_prompt | GROQ_LLM | JsonOutputParser()"
      ],
      "metadata": {
        "id": "kiw82bEmGEn7"
      },
      "execution_count": 17,
      "outputs": []
    },
    {
      "cell_type": "code",
      "source": [
        "# Testing the Research Router\n",
        "EMAIL = \"\"\"HI there, \\n\n",
        "I am emailing to say that I had a wonderful stay at your resort last week. \\n\n",
        "\n",
        "I really appreciate what your staff did.\n",
        "\n",
        "Thanks,\n",
        "Paul\n",
        "\"\"\"\n",
        "\n",
        "email_category = \"customer_feedback\"\n",
        "\n",
        "result = research_router.invoke({\"initial_email\": EMAIL, \"email_category\": email_category})\n",
        "\n",
        "print(result)\n"
      ],
      "metadata": {
        "colab": {
          "base_uri": "https://localhost:8080/"
        },
        "id": "iNizpKPrGQFp",
        "outputId": "9eeadd20-a186-4496-d3b1-036ab58d5bab"
      },
      "execution_count": 18,
      "outputs": [
        {
          "output_type": "stream",
          "name": "stdout",
          "text": [
            "{'router_decision': 'draft_email'}\n"
          ]
        }
      ]
    },
    {
      "cell_type": "markdown",
      "source": [
        "### Generating Search Keywords : Extract relevant keywords for gathering additional information."
      ],
      "metadata": {
        "id": "YHogDQzyHA78"
      }
    },
    {
      "cell_type": "code",
      "source": [
        "search_keyword_prompt = PromptTemplate(\n",
        "    template=\"\"\"<|begin_of_text|><|start_header_id|>system<|end_header_id|>\n",
        "You are a master at working out the best keywords for a web search\n",
        "to find the most relevant information for the customer.\n",
        "\n",
        "Given the INITIAL_EMAIL and EMAIL_CATEGORY, work out the best\n",
        "keywords that will find the most relevant information to help write\n",
        "the final email.\n",
        "\n",
        "Return a JSON with a single key 'keywords' containing no more than\n",
        "3 keywords, and no preamble or explanation.\n",
        "\n",
        "<|eot_id|><|start_header_id|>user<|end_header_id|>\n",
        "INITIAL_EMAIL: {initial_email}\n",
        "EMAIL_CATEGORY: {email_category}\n",
        "<|eot_id|><|start_header_id|>assistant<|end_header_id>\n",
        "\"\"\",\n",
        "    input_variables=[\"initial_email\", \"email_category\"],\n",
        ")\n",
        "\n"
      ],
      "metadata": {
        "id": "8rXTByE3HR3t"
      },
      "execution_count": 19,
      "outputs": []
    },
    {
      "cell_type": "code",
      "source": [
        "# Building the Search Keyword Chain\n",
        "search_keyword_chain = search_keyword_prompt | GROQ_LLM | JsonOutputParser()\n"
      ],
      "metadata": {
        "id": "vyJ0IWidJGrX"
      },
      "execution_count": 20,
      "outputs": []
    },
    {
      "cell_type": "code",
      "source": [
        "# Testing the Search Keywords Generation\n",
        "\n",
        "EMAIL = \"\"\"HI there, \\n\n",
        "I am emailing to say that I had a wonderful stay at your resort last week. \\n\n",
        "\n",
        "I really appreciate what your staff did.\n",
        "\n",
        "Thanks,\n",
        "Paul\n",
        "\"\"\"\n",
        "\n",
        "email_category = \"customer_feedback\"\n",
        "\n",
        "result = search_keyword_chain.invoke({\"initial_email\": EMAIL, \"email_category\": email_category})\n",
        "\n",
        "print(result)"
      ],
      "metadata": {
        "colab": {
          "base_uri": "https://localhost:8080/"
        },
        "id": "OlR1SMBNJR4I",
        "outputId": "e2497718-13aa-4282-f44b-63fc718586a5"
      },
      "execution_count": 21,
      "outputs": [
        {
          "output_type": "stream",
          "name": "stdout",
          "text": [
            "{'keywords': ['resort', 'staff', 'hospitality']}\n"
          ]
        }
      ]
    },
    {
      "cell_type": "markdown",
      "source": [
        "### Writing the Draft Email: Use the research and email context to generate a thoughtful reply.\n"
      ],
      "metadata": {
        "id": "arfvmGBDJn04"
      }
    },
    {
      "cell_type": "code",
      "source": [
        "draft_writer_prompt = PromptTemplate(\n",
        "    template=\"\"\"<|begin_of_text|><|start_header_id|>system<|end_header_id|>\n",
        "    You are the Email Writer Agent. Take the INITIAL_EMAIL below from a human that has emailed our company email address, the email_category \\\n",
        "    that the categorizer agent gave it, and the research from the research agent, and \\\n",
        "    write a helpful email in a thoughful and friendly way.\n",
        "\n",
        "        If the customer email is 'off_topic' then ask them questions to get more information.\n",
        "        If the customer email is 'customer_complaint' then try to assure we value them and that we are addressing their issues.\n",
        "        If the customer email is 'customer_feedback' then thank them and acknowledge their feedback positively.\n",
        "        If the customer email is 'product_enquiry' then try to give them the infor the researcher provided in a succinct and friendly way.\n",
        "        If the customer email is 'price_enquiry' then try to give them the pricing infor they requested.\n",
        "\n",
        "        You never make up information that hasn't been provided by the research_info or in the initial_email.\n",
        "        Always sign off the emails in an appropriate manner and from Kathy, the General Manager.\n",
        "\n",
        "        Return the email as a JSON with a single key 'email_draft' and no preamble or explanation.\n",
        "\n",
        "    <|eot_id|><|start_header_id|>user<|end_header_id|>\n",
        "    INITIAL_EMAIL: {initial_email}\n",
        "    EMAIL_CATEGORY: {email_category}\n",
        "    RESEARCH_INFO: {research_info}\n",
        "    <|eot_id|><|start_header_id|>assistant<|end_header_id|>\n",
        "    \"\"\",\n",
        "    input_variables=[\"initial_email\", \"email_category\", \"research_info\"],\n",
        ")"
      ],
      "metadata": {
        "id": "yUx0gfS9LRUl"
      },
      "execution_count": 22,
      "outputs": []
    },
    {
      "cell_type": "code",
      "source": [
        "# Building the Draft Email Chain\n",
        "draft_writer_chain = draft_writer_prompt | GROQ_LLM | JsonOutputParser()"
      ],
      "metadata": {
        "id": "aUXkMGlfnLvT"
      },
      "execution_count": 23,
      "outputs": []
    },
    {
      "cell_type": "code",
      "source": [
        "# Testing the Draft Email Writer\n",
        "email_category = \"customer_feedback\"\n",
        "research_info = None\n",
        "\n",
        "result = draft_writer_chain.invoke({\n",
        "    \"initial_email\": EMAIL,\n",
        "    \"email_category\": email_category,\n",
        "    \"research_info\": research_info\n",
        "})\n",
        "\n",
        "print(result)\n"
      ],
      "metadata": {
        "colab": {
          "base_uri": "https://localhost:8080/"
        },
        "id": "TkT78uoRm9rs",
        "outputId": "4cbb159e-97c7-4cd6-f9fa-d9b445fe6ea3"
      },
      "execution_count": 24,
      "outputs": [
        {
          "output_type": "stream",
          "name": "stdout",
          "text": [
            "{'email_draft': 'Dear Paul, \\n\\nWe are thrilled to hear that you had a wonderful stay at our resort and that our staff were able to make a positive impact on your experience. We really appreciate you taking the time to share your kind words with us. \\n\\nThank you again for your feedback and for choosing to stay with us. We hope to have the opportunity to welcome you back again in the future. \\n\\nBest regards, \\nKathy, General Manager'}\n"
          ]
        }
      ]
    },
    {
      "cell_type": "markdown",
      "source": [
        "### Rewrite Router: Determine if the draft requires rewriting or further improvement."
      ],
      "metadata": {
        "id": "moJXKt1qnlJQ"
      }
    },
    {
      "cell_type": "code",
      "source": [
        "rewrite_router_prompt = PromptTemplate(\n",
        "    template=\"\"\"<|begin_of_text|><|start_header_id|>system<|end_header_id|>\n",
        "    You are an expert at evaluating emails that are draft emails for the customer and deciding if they\n",
        "    need to be rewritten to be better. \\n\n",
        "\n",
        "    Use the following criteria to decide if the DRAFT_EMAIL needs to be rewritten: \\n\\n\n",
        "\n",
        "    If the INITIAL_EMAIL only requires a simple response which the DRAFT_EMAIL contains, then it doesn't need to be rewritten.\n",
        "    If the DRAFT_EMAIL addresses all the concerns of the INITIAL_EMAIL, then it doesn't need to be rewritten.\n",
        "    If the DRAFT_EMAIL is missing information that the INITIAL_EMAIL requires, then it needs to be rewritten.\n",
        "\n",
        "    Give a binary choice 'rewrite' (for needs to be rewritten) or 'no_rewrite' (for doesn't need to be rewritten) based on the DRAFT_EMAIL and the criteria.\n",
        "    Return a JSON with a single key 'router_decision' and no preamble or explanation. \\\n",
        "    <|eot_id|><|start_header_id|>user<|end_header_id|>\n",
        "    INITIAL_EMAIL: {initial_email} \\n\n",
        "    EMAIL_CATEGORY: {email_category} \\n\n",
        "    DRAFT_EMAIL: {draft_email} \\n\n",
        "    <|eot_id|><|start_header_id|>assistant<|end_header_id>\"\"\",\n",
        "    input_variables=[\"initial_email\", \"email_category\", \"draft_email\"],\n",
        ")\n"
      ],
      "metadata": {
        "id": "Ypw0ACHYnun-"
      },
      "execution_count": 25,
      "outputs": []
    },
    {
      "cell_type": "code",
      "source": [
        "# Building the Rewrite Router\n",
        "rewrite_router = rewrite_router_prompt | GROQ_LLM | JsonOutputParser()\n"
      ],
      "metadata": {
        "id": "WE21m_1Mn3La"
      },
      "execution_count": 26,
      "outputs": []
    },
    {
      "cell_type": "code",
      "source": [
        "# Testing the Rewrite Router\n",
        "email_category = \"customer_feedback\"\n",
        "draft_email = \"Yo we can't help you, best regards Sarah\"\n",
        "\n",
        "result = rewrite_router.invoke({\n",
        "    \"initial_email\": EMAIL,\n",
        "    \"email_category\": email_category,\n",
        "    \"draft_email\": draft_email\n",
        "})\n",
        "\n",
        "print(result)\n"
      ],
      "metadata": {
        "colab": {
          "base_uri": "https://localhost:8080/"
        },
        "id": "8XzNPscGn-Mp",
        "outputId": "588f7752-ecda-43a1-fd4b-3bfcf96c33b5"
      },
      "execution_count": 27,
      "outputs": [
        {
          "output_type": "stream",
          "name": "stdout",
          "text": [
            "{'router_decision': 'rewrite'}\n"
          ]
        }
      ]
    },
    {
      "cell_type": "markdown",
      "source": [
        "### Draft Email Analysis: Evaluate the draft’s coherence, relevance, and tone."
      ],
      "metadata": {
        "id": "gY9Vjf7aoGy3"
      }
    },
    {
      "cell_type": "code",
      "source": [
        "draft_analysis_prompt = PromptTemplate(\n",
        "    template=\"\"\"<|begin_of_text|><|start_header_id|>system<|end_header_id|>\n",
        "    You are the Quality Control Agent. Read the INITIAL_EMAIL below from a human that has emailed \\\n",
        "    our company email address, the email_category that the categorizer agent gave it, and the \\\n",
        "    research from the research agent, and write an analysis of the email.\n",
        "\n",
        "    Check if the DRAFT_EMAIL addresses the customer's issues based on the email category and the \\\n",
        "    content of the initial email.\\n\n",
        "\n",
        "    Give feedback on how the email can be improved and what specific things can be added or changed \\\n",
        "    to make the email more effective at addressing the customer's issues.\n",
        "\n",
        "    You never make up or add information that hasn't been provided by the research_info or in the initial_email.\n",
        "\n",
        "    Return the analysis as a JSON with a single key 'draft_analysis' and no preamble or explanation.\n",
        "\n",
        "    <|eot_id|><|start_header_id|>user<|end_header_id|>\n",
        "    INITIAL_EMAIL: {initial_email} \\n\\n\n",
        "    EMAIL_CATEGORY: {email_category} \\n\\n\n",
        "    RESEARCH_INFO: {research_info} \\n\\n\n",
        "    DRAFT_EMAIL: {draft_email} \\n\\n\n",
        "    <|eot_id|><|start_header_id|>assistant<|end_header_id|>\"\"\",\n",
        "    input_variables=[\"initial_email\", \"email_category\", \"research_info\", \"draft_email\"],\n",
        ")\n"
      ],
      "metadata": {
        "id": "vHFPvUbzoQnK"
      },
      "execution_count": 28,
      "outputs": []
    },
    {
      "cell_type": "code",
      "source": [
        "# Building the Draft Analysis Chain\n",
        "draft_analysis_chain = draft_analysis_prompt | GROQ_LLM | JsonOutputParser()\n"
      ],
      "metadata": {
        "id": "HCJ-WhDhocSn"
      },
      "execution_count": 29,
      "outputs": []
    },
    {
      "cell_type": "code",
      "source": [
        "# Testing the Draft Analysis Chain\n",
        "email_category = \"customer_feedback\"\n",
        "research_info = None\n",
        "draft_email = \"Yo we can't help you, best regard Kathy\"\n",
        "\n",
        "email_analysis = draft_analysis_chain.invoke({\n",
        "    \"initial_email\": EMAIL,\n",
        "    \"email_category\": email_category,\n",
        "    \"research_info\": research_info,\n",
        "    \"draft_email\": draft_email\n",
        "})\n",
        "\n",
        "pprint(email_analysis)\n"
      ],
      "metadata": {
        "colab": {
          "base_uri": "https://localhost:8080/"
        },
        "id": "iNkWgLlFohqv",
        "outputId": "f68c60d1-78e5-492c-cc5d-6821c4df0fad"
      },
      "execution_count": 30,
      "outputs": [
        {
          "output_type": "stream",
          "name": "stdout",
          "text": [
            "{'draft_analysis': {'feedback': 'The draft email does not address the '\n",
            "                                \"customer's issues as it is a negative \"\n",
            "                                'response to a positive feedback email. The '\n",
            "                                'customer is expressing appreciation for their '\n",
            "                                'stay and the staff, but the draft email is '\n",
            "                                'dismissive and unhelpful. To improve the '\n",
            "                                'email, it should be changed to a positive and '\n",
            "                                'thankful response, such as acknowledging the '\n",
            "                                \"customer's appreciation and expressing \"\n",
            "                                'gratitude for their feedback. The tone should '\n",
            "                                'be friendly and courteous, and the email '\n",
            "                                'should be signed with a more professional '\n",
            "                                \"closing than 'best regard'.\",\n",
            "                    'issues_addressed': False}}\n"
          ]
        }
      ]
    },
    {
      "cell_type": "markdown",
      "source": [
        "### Rewrite Email : Finalize the email by refining its tone and content."
      ],
      "metadata": {
        "id": "FBWdi90fpPk6"
      }
    },
    {
      "cell_type": "code",
      "source": [
        "rewrite_email_prompt = PromptTemplate(\n",
        "    template=\"\"\"<|begin_of_text|><|start_header_id|>system<|end_header_id|>\n",
        "    You are the Final Email Agent. Read the email analysis below from the QC Agent \\\n",
        "    and use it to rewrite and improve the draft_email to create a final email.\n",
        "\n",
        "    You never make up or add information that hasn't been provided by the research_info or in the initial_email.\n",
        "\n",
        "    Return the final email as JSON with a single key 'final_email' which is a string and no preamble or explanation.\n",
        "\n",
        "    <|eot_id|><|start_header_id|>user<|end_header_id|>\n",
        "    EMAIL_CATEGORY: {email_category} \\n\\n\n",
        "    RESEARCH_INFO: {research_info} \\n\\n\n",
        "    DRAFT_EMAIL: {draft_email} \\n\\n\n",
        "    DRAFT_EMAIL_FEEDBACK: {email_analysis} \\n\\n\n",
        "    <|eot_id|>\"\"\",\n",
        "    input_variables=[\"initial_email\", \"email_category\", \"research_info\", \"email_analysis\", \"draft_email\"],\n",
        ")\n"
      ],
      "metadata": {
        "id": "UWiIlS-GpZJ6"
      },
      "execution_count": 31,
      "outputs": []
    },
    {
      "cell_type": "code",
      "source": [
        "# Building the Rewrite Chain\n",
        "rewrite_chain = rewrite_email_prompt | GROQ_LLM | JsonOutputParser()"
      ],
      "metadata": {
        "id": "GGhgo6YDpbeg"
      },
      "execution_count": 32,
      "outputs": []
    },
    {
      "cell_type": "code",
      "source": [
        "# Testing the Rewrite Email Chain\n",
        "email_category = 'customer_feedback'\n",
        "research_info = None\n",
        "draft_email = \"Yo we can't help you, best regards Sarah\"\n",
        "\n",
        "final_email = rewrite_chain.invoke({\n",
        "    \"initial_email\": EMAIL,\n",
        "    \"email_category\": email_category,\n",
        "    \"research_info\": research_info,\n",
        "    \"draft_email\": draft_email,\n",
        "    \"email_analysis\": email_analysis\n",
        "})\n",
        "\n",
        "print(final_email['final_email'])\n"
      ],
      "metadata": {
        "colab": {
          "base_uri": "https://localhost:8080/"
        },
        "id": "wWflzttNph31",
        "outputId": "8b817b18-b55c-490d-b08f-c58d8797fe47"
      },
      "execution_count": 33,
      "outputs": [
        {
          "output_type": "stream",
          "name": "stdout",
          "text": [
            "Dear valued customer, we appreciate your kind words about your stay and our staff. Thank you for taking the time to share your positive feedback with us. We are grateful for customers like you and look forward to serving you again in the future. Sincerely, Sarah\n"
          ]
        }
      ]
    },
    {
      "cell_type": "markdown",
      "source": [
        "### Tool Setup\n",
        "The TavilySearchResults tool is set up to handle web searches and retrieve relevant results."
      ],
      "metadata": {
        "id": "LwzSMsQ2psrN"
      }
    },
    {
      "cell_type": "code",
      "source": [
        "from langchain_community.tools.tavily_search import TavilySearchResults\n",
        "\n",
        "web_search_tool = TavilySearchResults(k=1)"
      ],
      "metadata": {
        "id": "aXlhYJfcpyvT"
      },
      "execution_count": 98,
      "outputs": []
    },
    {
      "cell_type": "code",
      "source": [
        "# State Setup\n",
        "from langchain_core.documents import Document\n",
        "from langgraph.graph import END, StateGraph\n",
        "from typing_extensions import TypedDict\n",
        "from typing import List\n",
        "\n",
        "class GraphState(TypedDict):\n",
        "  \"\"\"\n",
        "  Represents the state of our graph.\n",
        "\n",
        "  Attributes:\n",
        "      initial_email: email\n",
        "      email_category: email category\n",
        "      research_info: list of documents\n",
        "      draft_email: LLM generation\n",
        "      final_email: LLM generation\n",
        "      info_needed: whether to add search infor\n",
        "      num_steps: number of steps\n",
        "  \"\"\"\n",
        "  initial_email: str\n",
        "  email_category: str\n",
        "  draft_email: str\n",
        "  final_email: str\n",
        "  research_info: List[str]\n",
        "  info_needed: bool\n",
        "  num_steps: int\n",
        "  draft_email_feedback: dict\n"
      ],
      "metadata": {
        "id": "Y7u8DvtZsDaD"
      },
      "execution_count": 69,
      "outputs": []
    },
    {
      "cell_type": "markdown",
      "source": [
        "### Categorize Email\n"
      ],
      "metadata": {
        "id": "KflljjPUQV5G"
      }
    },
    {
      "cell_type": "code",
      "source": [
        "def categorize_email(state):\n",
        "  \"\"\" Take the initial email and categorize it\"\"\"\n",
        "  print(\"----CATEGORIZE INITIAL EMAIL----\")\n",
        "  initial_email = state['initial_email']\n",
        "  num_steps = int(state['num_steps'])\n",
        "  num_steps += 1\n",
        "\n",
        "  # Categorize the email\n",
        "  email_catgory = email_category_generator.invoke({'initial_email': initial_email})\n",
        "  print(email_category)\n",
        "\n",
        "  # Save category to local disk\n",
        "  write_markdown_file(email_category, 'email_category')\n",
        "\n",
        "  return {\"email_category\": email_category, \"num_steps\": num_steps}\n"
      ],
      "metadata": {
        "id": "7z8Y7xMsQZXH"
      },
      "execution_count": 70,
      "outputs": []
    },
    {
      "cell_type": "markdown",
      "source": [
        "### Research Info Search\n"
      ],
      "metadata": {
        "id": "63NPX8kfRlvl"
      }
    },
    {
      "cell_type": "code",
      "source": [
        "def research_info_search(state):\n",
        "    print(\"---RESEARCH INFO SEARCHING---\")\n",
        "    initial_email = state[\"initial_email\"]\n",
        "    email_category = state[\"email_category\"]\n",
        "    research_info = state[\"research_info\"]\n",
        "    num_steps = state['num_steps']\n",
        "    num_steps += 1\n",
        "\n",
        "    # Web search for keywords\n",
        "    keywords = search_keyword_chain.invoke({\"initial_email\": initial_email,\n",
        "                                            \"email_category\": email_category })\n",
        "    keywords = keywords['keywords']\n",
        "\n",
        "    full_searches = []\n",
        "    for keyword in keywords[:1]:  # Only taking the first keyword\n",
        "        print(keyword)\n",
        "        temp_docs = web_search_tool.invoke({\"query\": keyword})\n",
        "        web_results = \"\\n\".join([d[\"content\"] for d in temp_docs])\n",
        "        web_results = Document(page_content=web_results)\n",
        "        if full_searches is not None:\n",
        "            full_searches.append(web_results)\n",
        "        else:\n",
        "            full_searches = [web_results]\n",
        "    print(full_searches)\n",
        "    print(type(full_searches))\n",
        "\n",
        "    return {\"research_info\": full_searches, \"num_steps\": num_steps}\n"
      ],
      "metadata": {
        "id": "t3kb9wluRrE2"
      },
      "execution_count": 87,
      "outputs": []
    },
    {
      "cell_type": "markdown",
      "source": [
        "### Draft Email Writer: This function creates a draft email based on the initial email, email category, and research info."
      ],
      "metadata": {
        "id": "j76cGlfZUOvW"
      }
    },
    {
      "cell_type": "code",
      "source": [
        "\n",
        "def draft_email_writer(state):\n",
        "  print(\"----DRAFT EMAIL WRITER----\")\n",
        "\n",
        "  # Get the state\n",
        "  initial_email = state[\"initial_email\"]\n",
        "  email_category = state[\"email_category\"]\n",
        "  research_info = state[\"research_info\"]\n",
        "  num_steps = state[\"num_steps\"]\n",
        "  num_steps += 1\n",
        "\n",
        "  # Generate draft email using the draft_writer_chain\n",
        "  draft_email = draft_writer_chain.invoke({\"initial_email\": initial_email,\n",
        "                                           \"email_category\": email_category,\n",
        "                                           \"research_info\": research_info})\n",
        "  print(draft_email)\n",
        "\n",
        "  email_draft = draft_email[\"email_draft\"]     # Extract the email draft from response\n",
        "  write_markdown_file(email_draft, \"draft_email\")\n",
        "\n",
        "  return {\"draft_email\": email_draft, \"num_steps\": num_steps}\n"
      ],
      "metadata": {
        "id": "ShGvzUoqUpaZ"
      },
      "execution_count": 88,
      "outputs": []
    },
    {
      "cell_type": "markdown",
      "source": [
        "### Draft Email Analyzer: This function analyzes the draft email and provides feedback on how to improve it.\n"
      ],
      "metadata": {
        "id": "5IwSk8-cWAOR"
      }
    },
    {
      "cell_type": "code",
      "source": [
        "\n",
        "def analyze_draft_email(state):\n",
        "  print(\"----DRAFT EMAIL ANALYZER----\")\n",
        "\n",
        "  # Get the state\n",
        "  initial_email = state[\"initial_email\"]\n",
        "  email_category = state[\"email_category\"]\n",
        "  draft_email = state[\"draft_email\"]\n",
        "  research_info = state[\"research_info\"]\n",
        "  num_steps = state[\"num_steps\"]\n",
        "  num_steps += 1\n",
        "\n",
        "  # Generate draft email feedback using the draft_email_analysis_chain\n",
        "  draft_email_feedback = draft_analysis_chain.invoke({\"initial_email\": initial_email,\n",
        "                                                      \"email_category\": email_category,\n",
        "                                                      \"research_info\": research_info,\n",
        "                                                      \"draft_email\": draft_email})\n",
        "  # Save feedback to markdown file for later review\n",
        "  write_markdown_file(str(draft_email_feedback), \"draft_email_feedback\")\n",
        "\n",
        "  return {\"draft_email_feedback\": draft_email_feedback, \"num_steps\": num_steps}\n",
        "\n",
        ""
      ],
      "metadata": {
        "id": "8UuwLXO8WG9s"
      },
      "execution_count": 89,
      "outputs": []
    },
    {
      "cell_type": "markdown",
      "source": [
        "### Rewrite Email: This function is designed to take the draft email and its associated feedback, then use that to generate a final email that incorporates the necessary changes and improvements.\n"
      ],
      "metadata": {
        "id": "gqUXHUWPYS03"
      }
    },
    {
      "cell_type": "code",
      "source": [
        "def rewrite_email(state):\n",
        "  print(\"----REWRITE EMAIL----\")\n",
        "\n",
        "  # Get the state\n",
        "  initial_email = state[\"initial_email\"]\n",
        "  email_category = state[\"email_category\"]\n",
        "  draft_email = state[\"draft_email\"]\n",
        "  research_info = state[\"research_info\"]\n",
        "  draft_email_feedback = state[\"draft_email_feedback\"]\n",
        "  num_steps = state[\"num_steps\"]\n",
        "  num_steps += 1\n",
        "\n",
        "  # Generate the final email using the rewrite_chain\n",
        "  final_email = rewrite_chain.invoke({\"initial_email\": initial_email,\n",
        "                                      \"email_category\": email_category,\n",
        "                                      \"research_info\": research_info,\n",
        "                                      \"draft_email\": draft_email,\n",
        "                                      \"email_analysis\": email_analysis,\n",
        "  })\n",
        "\n",
        "  # Save the final email to a markdown file for review\n",
        "  write_markdown_file(str(final_email), \"final_email\")\n",
        "\n",
        "  return {\"final_email\": final_email[\"final_email\"], \"num_steps\": num_steps}"
      ],
      "metadata": {
        "id": "E1Hckv69YaoY"
      },
      "execution_count": 90,
      "outputs": []
    },
    {
      "cell_type": "code",
      "source": [
        "def no_rewrite(state):\n",
        "    print(\"---NO REWRITE EMAIL ---\")\n",
        "    ## Get the state\n",
        "    draft_email = state[\"draft_email\"]\n",
        "    num_steps = state['num_steps']\n",
        "    num_steps += 1\n",
        "\n",
        "    # Save the draft email as final email\n",
        "    write_markdown_file(str(draft_email), \"final_email\")\n",
        "\n",
        "    return {\"final_email\": draft_email, \"num_steps\": num_steps}\n",
        "\n"
      ],
      "metadata": {
        "id": "io1Wn7jaaaKl"
      },
      "execution_count": 91,
      "outputs": []
    },
    {
      "cell_type": "code",
      "source": [
        "def state_printer(state):\n",
        "  \"\"\"Print the state\"\"\"\n",
        "  print(\"----STATE PRINTER----\")\n",
        "  print(f\"Initial Email: {state['initial_email']}\\n\")\n",
        "  print(f\"Email Category: {state['email_category']}\\n\")\n",
        "  print(f\"Draft Email: {state['draft_email']}\\n\")\n",
        "  print(f\"Final Email: {state['final_email']}\\n\")\n",
        "  print(f\"Research Info: {state['research_info']}\\n\")\n",
        "  print(f\"Num Steps: {state['num_steps']}\\n\")\n",
        "\n",
        "  # Check if \"info_needed' exists in the state\n",
        "  info_needed = state.get(\"info_needed\", \"N/A\")\n",
        "  print(f\"Info Needed: {info_needed} \\n\")\n",
        "\n",
        "  return\n"
      ],
      "metadata": {
        "id": "Vc785a4uagH_"
      },
      "execution_count": 92,
      "outputs": []
    },
    {
      "cell_type": "markdown",
      "source": [
        " ### Route Email to Research: This function determines the next step in the process flow based on the routing decision made by the research_router. The decision depends on the content of the email and its categorization"
      ],
      "metadata": {
        "id": "bBmfpdFZbz2j"
      }
    },
    {
      "cell_type": "code",
      "source": [
        "def route_to_research(state):\n",
        "  \"\"\"\n",
        "  Route email to web search or not\n",
        "  Args:\n",
        "     state (dict): The current graph statte\n",
        "  Returns:\n",
        "     str: Next node to call\n",
        "  \"\"\"\n",
        "\n",
        "  print(\"----ROUTE TO RESEARCH----\")\n",
        "  initial_email = state[\"initial_email\"]\n",
        "  email_category = state[\"email_category\"]\n",
        "\n",
        "  # Route decision based on the email category and content\n",
        "  router = research_router.invoke({\"initial_email\": initial_email,\n",
        "                                   \"email_category\": email_category})\n",
        "  print(router)\n",
        "\n",
        "  # Retrieve the router's decision\n",
        "  print(router[\"router_decision\"])\n",
        "\n",
        "  # Routing logic\n",
        "  if router[\"router_decision\"] == \"research_info\":\n",
        "    print(\"---ROUTE EMAIL TO RESEARCH INFO---\")\n",
        "    return \"research_info\"\n",
        "  elif router[\"router_decision\"] == \"draft_email\":\n",
        "    print(\"--ROUTE EMAIL TO DRAFT EMAIL---\")\n",
        "    return \"draft_email\"\n"
      ],
      "metadata": {
        "id": "nPa4O5Cyb-CB"
      },
      "execution_count": 93,
      "outputs": []
    },
    {
      "cell_type": "markdown",
      "source": [
        "### Route to rewrite: This function determines the next step in the process flow based on the evaluation of the draft email. Specifically, it decides whether the draft email needs to be rewritten or if it can be sent as is."
      ],
      "metadata": {
        "id": "o3o98yybduuh"
      }
    },
    {
      "cell_type": "code",
      "source": [
        "def route_to_rewrite(state):\n",
        "    \"\"\"\n",
        "    Route email to rewrite or not, based on the draft email quality.\n",
        "    Args:\n",
        "        state (dict): The current graph state\n",
        "    Returns:\n",
        "        str: Next node to call (rewrite or no_rewrite)\n",
        "    \"\"\"\n",
        "    print(\"---ROUTE TO REWRITE---\")\n",
        "    initial_email = state[\"initial_email\"]\n",
        "    email_category = state[\"email_category\"]\n",
        "    draft_email = state[\"draft_email\"]\n",
        "    research_info = state[\"research_info\"]\n",
        "\n",
        "    # Invoke the rewrite router to evaluate the draft email\n",
        "    router = rewrite_router.invoke({\"initial_email\": initial_email,\n",
        "                                     \"email_category\": email_category,\n",
        "                                     \"draft_email\": draft_email})\n",
        "    print(router)\n",
        "\n",
        "    # Retrieve the router's decision\n",
        "    print(router['router_decision'])\n",
        "\n",
        "    # Routing logic based on the evaluation\n",
        "    if router['router_decision'] == 'rewrite':\n",
        "        print(\"---ROUTE TO ANALYSIS - REWRITE---\")\n",
        "        return \"rewrite\"\n",
        "    elif router['router_decision'] == 'no_rewrite':\n",
        "        print(\"---ROUTE EMAIL TO FINAL EMAIL---\")\n",
        "        return \"no_rewrite\"\n"
      ],
      "metadata": {
        "id": "_3M7whS_d9gg"
      },
      "execution_count": 94,
      "outputs": []
    },
    {
      "cell_type": "markdown",
      "source": [
        "### Fit into the Graph"
      ],
      "metadata": {
        "id": "P14bYVp2fb1D"
      }
    },
    {
      "cell_type": "code",
      "source": [
        "# Define the workflow (state graph)\n",
        "workflow = StateGraph(GraphState)\n",
        "\n",
        "# Add edges between nodes\n",
        "workflow.add_edge(\"research_info_search\", \"draft_email_writer\")     # After research, go to drafting\n",
        "\n",
        "# Define the workflow (state graph)\n",
        "workflow = StateGraph(GraphState)\n",
        "\n",
        "# Add nodes to the workflow graph\n",
        "workflow.add_node(\"categorize_email\", categorize_email)  # Categorize the email\n",
        "workflow.add_node(\"research_info_search\", research_info_search)  # Perform web search for info\n",
        "workflow.add_node(\"state_printer\", state_printer)  # Print the final state\n",
        "workflow.add_node(\"draft_email_writer\", draft_email_writer)  # Generate draft email\n",
        "workflow.add_node(\"analyze_draft_email\", analyze_draft_email)  # Analyze the draft\n",
        "workflow.add_node(\"rewrite_email\", rewrite_email)  # Rewrite the email if necessary\n",
        "workflow.add_node(\"no_rewrite\", no_rewrite)  # No rewrite needed, just finalize\n",
        "\n",
        "# Set the entry point to the \"categorize_email\" node\n",
        "workflow.set_entry_point(\"categorize_email\")\n",
        "\n",
        "# Add conditional edges based on the outcome of the categorization\n",
        "workflow.add_conditional_edges(\n",
        "    \"categorize_email\",\n",
        "    route_to_research,\n",
        "    {\n",
        "        \"research_info\": \"research_info_search\",  # If research info needed, go to research\n",
        "        \"draft_email\": \"draft_email_writer\",  # If no research needed, go to draft email generation\n",
        "    },\n",
        ")\n",
        "\n",
        "# Add edges between nodes\n",
        "workflow.add_edge(\"research_info_search\", \"draft_email_writer\")  # After research, go to drafting\n",
        "\n",
        "# Add conditional edges based on whether the draft email needs rewriting or not\n",
        "workflow.add_conditional_edges(\n",
        "    \"draft_email_writer\",\n",
        "    route_to_rewrite,\n",
        "    {\n",
        "        \"rewrite\": \"analyze_draft_email\",  # If rewrite needed, go to analyze draft\n",
        "        \"no_rewrite\": \"no_rewrite\",  # If no rewrite needed, go to final email\n",
        "    },\n",
        ")\n",
        "\n",
        "# Add edges to finalize the email or send for rewriting\n",
        "workflow.add_edge(\"analyze_draft_email\", \"rewrite_email\")  # After analyzing, rewrite the email\n",
        "workflow.add_edge(\"no_rewrite\", \"state_printer\")  # No rewrite, finalize the email\n",
        "workflow.add_edge(\"rewrite_email\", \"state_printer\")  # After rewriting, finalize the email\n",
        "\n",
        "# Finally, add the end node\n",
        "workflow.add_edge(\"state_printer\", END)\n",
        "\n",
        "# Compile the workflow into an executable application\n",
        "app = workflow.compile()\n",
        "\n",
        "\n",
        "# Show the workflow\n",
        "from IPython.display import Image, display\n",
        "display(Image(app.get_graph().draw_mermaid_png()))\n",
        "\n"
      ],
      "metadata": {
        "colab": {
          "base_uri": "https://localhost:8080/",
          "height": 794
        },
        "id": "_Musvw5Cfjso",
        "outputId": "161403be-be3f-49f0-b219-4879884d91ce"
      },
      "execution_count": 95,
      "outputs": [
        {
          "output_type": "display_data",
          "data": {
            "image/png": "[encoded data removed]",
            "text/plain": [
              "<IPython.core.display.Image object>"
            ]
          },
          "metadata": {}
        }
      ]
    },
    {
      "cell_type": "markdown",
      "source": [
        "### Workflow Execution\n"
      ],
      "metadata": {
        "id": "mR2O_rl24tKL"
      }
    },
    {
      "cell_type": "code",
      "source": [
        "EMAIL = \"\"\"HI there, \\n\n",
        "I am emailing to say that I had a wonderful stay at your resort last week. \\n\n",
        "\n",
        "\n",
        "I really appreaciate what your staff did\n",
        "\n",
        "\n",
        "Thanks,\n",
        "Paul\n",
        "\"\"\"\n",
        "\n",
        "\n",
        "EMAIL = \"\"\"HI there, \\n\n",
        "I am emailing to say that the resort weather was way to cloudy and overcast. \\n\n",
        "I wanted to write a song called 'Here comes the sun but it never came'\n",
        "\n",
        "\n",
        "What should be the weather in Arizona in April?\n",
        "\n",
        "\n",
        "I really hope you fix this next time.\n",
        "\n",
        "\n",
        "Thanks,\n",
        "George\n",
        "\"\"\"\n"
      ],
      "metadata": {
        "id": "PIZ7xbFv4yKy"
      },
      "execution_count": 96,
      "outputs": []
    },
    {
      "cell_type": "code",
      "source": [
        "# Run the agent\n",
        "inputs = {\n",
        "    \"initial_email\": EMAIL,\n",
        "    \"research_info\": None,\n",
        "    \"num_steps\": 0,\n",
        "    \"info_needed\": False  # Ensure this key is added\n",
        "}\n",
        "\n",
        "\n",
        "for output in app.stream(inputs):\n",
        "    for key, value in output.items():\n",
        "        pprint(f\"Finished running: {key}:\")\n",
        ""
      ],
      "metadata": {
        "colab": {
          "base_uri": "https://localhost:8080/"
        },
        "id": "dxSOkoIE476V",
        "outputId": "dfdbd5d0-85b9-4db6-fb89-320685931e45"
      },
      "execution_count": 99,
      "outputs": [
        {
          "output_type": "stream",
          "name": "stdout",
          "text": [
            "----CATEGORIZE INITIAL EMAIL----\n",
            "customer_feedback\n",
            "----ROUTE TO RESEARCH----\n",
            "{'router_decision': 'research_info'}\n",
            "research_info\n",
            "---ROUTE EMAIL TO RESEARCH INFO---\n",
            "'Finished running: categorize_email:'\n",
            "---RESEARCH INFO SEARCHING---\n",
            "Arizona weather April\n",
            "[Document(metadata={}, page_content=\"Weather\\n Archive\\n Weather Widget\\n\\n World\\n United States\\n Arizona\\n Weather in Phoenix\\n\\n# Weather in Phoenix in April 2025\\n\\nPhoenix Weather Forecast for April 2025 is based on statistical data.\\n\\nJanFebMarAprMayJunJulAugSepOctNovDec\\n\\n  \\n\\n## April\\n\\nStart Week On\\n\\n Sun\\n Mon\\n Tue\\n Wed\\n Thu\\n Fri\\n Sat\\n\\n +73°\\n\\n  16.6 mph W 28.5 inHg22 %06:14 am18:48 pm\\n +63°\\n\\n  15.2 mph W 28.6 inHg33 %06:13 am18:49 pm\\n +68°\\n\\n  +52°\\n\\n  9.8 mph S 28.7 inHg20 %06:12 am18:50 pm\\n 4\\n\\n  +70°\\n\\n  +55° [...] 10.5 mph W 28.7 inHg22 %06:11 am18:51 pm\\n 5\\n\\n  +77°\\n\\n  +57°\\n\\n  10.7 mph NW 28.9 inHg18 %06:09 am18:51 pm\\n 6\\n\\n  +81°\\n\\n  +61°\\n\\n  10.1 mph W 28.9 inHg18 %06:08 am18:52 pm\\n 7\\n\\n  +86°\\n\\n  +61°\\n\\n  8.1 mph SW 28.9 inHg14 %06:07 am18:53 pm\\n 8\\n\\n  +91°\\n\\n  +64°\\n\\n  7.8 mph W 28.8 inHg13 %06:05 am18:54 pm\\n 9\\n\\n  +95°\\n\\n  +68°\\n\\n  8.3 mph W 28.9 inHg13 %06:04 am18:54 pm\\n 10\\n\\n  +99°\\n\\n  +70°\\n\\n  7.4 mph W 28.9 inHg13 %06:03 am18:55 pm\\n 11\\n\\n  +100°\\n\\n  +72°\\n\\n  7.2 mph W 28.7 inHg13 %06:02 am18:56 pm\\n 12\\n\\n  +99° [...] +77°\\n\\n  +61°\\n\\n  12.1 mph W 28.7 inHg20 %05:43 am19:08 pm\\n 28\\n\\n  +81°\\n\\n  +61°\\n\\n  8.3 mph W 28.7 inHg22 %05:42 am19:09 pm\\n 29\\n\\n  +84°\\n\\n  +64°\\n\\n  10.5 mph W 28.7 inHg15 %05:41 am19:09 pm\\n 30\\n\\n  +88°\\n\\n  +66°\\n\\n  8.7 mph W 28.7 inHg17 %05:40 am19:10 pm\\n\\n  \\n\\n## Average weather in April 2025\\n\\n0 days\\n\\nPrecipitation\\n\\n7 days\\n\\nCloudy\\n\\n23 days\\n\\nSunny\\n\\nDay\\n\\n+85\\n\\n°F\\n\\nNight\\n\\n+64\\n\\n°F\\n\\nCompare with another month\\n\\n## Extended weather forecast in Phoenix\\n\\nHourlyWeek10-Day14-Day30-DayYear\\nhttps://www.weather.gov/wrh/climate?wfo=psr 2 April 2025 Climate Summary NWS Phoenix, AZ Yuma, AZ 2025 Normal 1991-2020 2025 Normal 1991-2020 2025 Normal 1991-2020 Average High Temperature 87.3 °F 86.4 °F Mean Temperature 73.4 °F 73.1 °F Average Low Temperature 59.6 °F 59.8 °F Departure From Normal 0.9 °F Departure From Normal 0.3 °F Departure From Normal -0.2 °F Rank 1 = Warmest 148 = Coldest 59 Rank 1 = Warmest 148 = Coldest 43 Rank 1 = Warmest 148 = Coldest 29 Record (1878-Now) Warmest [...] https://www.weather.gov/wrh/climate?wfo=psr 3 April 2025 Climate Summary NWS Phoenix, AZ El Centro, CA 2025 Normal 1991-2020 2025 Normal 1991-2020 2025 Normal 1991-2020 Average High Temperature 86.6 °F 86.3 °F Mean Temperature 71.5 °F 70.9 °F Average Low Temperature 56.5 °F 55.5 °F Departure From Normal 0.3 °F Departure From Normal 0.6 °F Departure From Normal 1.0 °F Rank 1 = Warmest 100 = Coldest 48 Rank 1 = Warmest 100 = Coldest 37 Rank 1 = Warmest 100 = Coldest 28 Record (1926-Now) Warmest [...] 1 April 2025 Climate Summary NWS Phoenix, AZ Phoenix, AZ 2025 Normal 1991-2020 2025 Normal 1991-2020 2025 Normal 1991-2020 Average High Temperature 87.1 °F 85.5 °F Mean Temperature 74.6 °F 73.2 °F Average Low Temperature 62.1 °F 60.8 °F Departure From Normal 1.6 °F Departure From Normal 1.4 °F Departure From Normal 1.3 °F Rank 1 = Warmest 130 = Coldest 29 Rank 1 = Warmest 130 = Coldest 18 Rank 1 = Warmest 130 = Coldest 15 Record (1896-Now) Warmest Coolest Record (1896-Now) Warmest Coolest Record\\nprecipitation was near normal for much of the state, ranging into above normal for parts of central and northern Arizona, and below normal in the southwest and northeast of the state. [...] forecast, the spread among models includes models that predict El Niño SSTs, La Niña SSTs, and a range of ENSO-neutral values in between. Source: The International Research Institute for Climate and Society, Columbia University Climate School Seasonal Forecasts The May – July seasonal precipitation forecast gives equal chances of above normal, below normal, or near normal precipitation for an area that includes most of Arizona and New Mexico. The forecast leans toward (33 – 40% chance) above [...] Source: Climate Prediction Center (NOAA) The May – July seasonal temperature forecast says above normal temperatures are likely (50 – 70% chance) for an area that includes Arizona and New Mexico. Source: Climate Prediction Center (NOAA) Wildfire The potential for significant wildland fire will be elevated for much of Arizona and New Mexico in the coming months. In May the elevated fire potential is expected across all regions of Arizona and New Mexico except for eastern New Mexico, the\\nwere in one of these two categories, with over 50% of Arizona in extreme or exceptional drought.\\nHow hot will summer be? See what new report predicts for Arizona, plus monsoon forecast\\n\\nBuckle up, Arizona. Summer is almost here and most weather experts agree it's going to be another hot one.\\n\\nAccuweather released its summer weather forecast for the United States on April 30, showing how hot it will be, how monsoon may go and how the drought will be affected. [...] Their forecast shows it will be 1-2 degrees hotter than historical averages in eastern Arizona and 2-3 degrees hotter in western Arizona. It's tough to tell which side of that line metro Phoenix falls on, but either way you know it will be warm. [...] However, it may not be as hot as it was in 2024. Accuweather's team charted the number of 90 degrees forecast for cities across the country. They expect Phoenix will see 168-172 days at or above 90 degrees, which is below the 2024 total (188 days) and the 30-year historical average (175 days).\")]\n",
            "<class 'list'>\n",
            "'Finished running: research_info_search:'\n",
            "----DRAFT EMAIL WRITER----\n",
            "{'email_draft': \"Dear George,\\n\\nThank you for taking the time to share your thoughts about your recent experience at our resort. We appreciate your creativity and sense of humor, especially with the idea of writing a song called 'Here comes the sun but it never came'.\\n\\nRegarding your question about the weather in Arizona in April, according to our research, the average high temperature in Phoenix, Arizona in April is around 85°F (29°C) and the average low temperature is around 64°F (18°C). It's not uncommon to have some cloudy days during this time, but we understand that it can be disappointing when the sun doesn't come out as expected.\\n\\nWe value your feedback and would like to assure you that we are always looking for ways to improve our guests' experiences. While we can't control the weather, we appreciate your input and will take it into consideration for future improvements.\\n\\nThank you again for your email, and we hope to have the opportunity to welcome you back to our resort in the future.\\n\\nBest regards,\\nKathy, General Manager\"}\n",
            "---ROUTE TO REWRITE---\n",
            "{'router_decision': 'no_rewrite'}\n",
            "no_rewrite\n",
            "---ROUTE EMAIL TO FINAL EMAIL---\n",
            "'Finished running: draft_email_writer:'\n",
            "---NO REWRITE EMAIL ---\n",
            "'Finished running: no_rewrite:'\n",
            "----STATE PRINTER----\n",
            "Initial Email: HI there, \n",
            "\n",
            "I am emailing to say that the resort weather was way to cloudy and overcast. \n",
            "\n",
            "I wanted to write a song called 'Here comes the sun but it never came'\n",
            "\n",
            "\n",
            "What should be the weather in Arizona in April?\n",
            "\n",
            "\n",
            "I really hope you fix this next time.\n",
            "\n",
            "\n",
            "Thanks,\n",
            "George\n",
            "\n",
            "\n",
            "Email Category: customer_feedback\n",
            "\n",
            "Draft Email: Dear George,\n",
            "\n",
            "Thank you for taking the time to share your thoughts about your recent experience at our resort. We appreciate your creativity and sense of humor, especially with the idea of writing a song called 'Here comes the sun but it never came'.\n",
            "\n",
            "Regarding your question about the weather in Arizona in April, according to our research, the average high temperature in Phoenix, Arizona in April is around 85°F (29°C) and the average low temperature is around 64°F (18°C). It's not uncommon to have some cloudy days during this time, but we understand that it can be disappointing when the sun doesn't come out as expected.\n",
            "\n",
            "We value your feedback and would like to assure you that we are always looking for ways to improve our guests' experiences. While we can't control the weather, we appreciate your input and will take it into consideration for future improvements.\n",
            "\n",
            "Thank you again for your email, and we hope to have the opportunity to welcome you back to our resort in the future.\n",
            "\n",
            "Best regards,\n",
            "Kathy, General Manager\n",
            "\n",
            "Final Email: Dear George,\n",
            "\n",
            "Thank you for taking the time to share your thoughts about your recent experience at our resort. We appreciate your creativity and sense of humor, especially with the idea of writing a song called 'Here comes the sun but it never came'.\n",
            "\n",
            "Regarding your question about the weather in Arizona in April, according to our research, the average high temperature in Phoenix, Arizona in April is around 85°F (29°C) and the average low temperature is around 64°F (18°C). It's not uncommon to have some cloudy days during this time, but we understand that it can be disappointing when the sun doesn't come out as expected.\n",
            "\n",
            "We value your feedback and would like to assure you that we are always looking for ways to improve our guests' experiences. While we can't control the weather, we appreciate your input and will take it into consideration for future improvements.\n",
            "\n",
            "Thank you again for your email, and we hope to have the opportunity to welcome you back to our resort in the future.\n",
            "\n",
            "Best regards,\n",
            "Kathy, General Manager\n",
            "\n",
            "Research Info: [Document(metadata={}, page_content=\"Weather\\n Archive\\n Weather Widget\\n\\n World\\n United States\\n Arizona\\n Weather in Phoenix\\n\\n# Weather in Phoenix in April 2025\\n\\nPhoenix Weather Forecast for April 2025 is based on statistical data.\\n\\nJanFebMarAprMayJunJulAugSepOctNovDec\\n\\n  \\n\\n## April\\n\\nStart Week On\\n\\n Sun\\n Mon\\n Tue\\n Wed\\n Thu\\n Fri\\n Sat\\n\\n +73°\\n\\n  16.6 mph W 28.5 inHg22 %06:14 am18:48 pm\\n +63°\\n\\n  15.2 mph W 28.6 inHg33 %06:13 am18:49 pm\\n +68°\\n\\n  +52°\\n\\n  9.8 mph S 28.7 inHg20 %06:12 am18:50 pm\\n 4\\n\\n  +70°\\n\\n  +55° [...] 10.5 mph W 28.7 inHg22 %06:11 am18:51 pm\\n 5\\n\\n  +77°\\n\\n  +57°\\n\\n  10.7 mph NW 28.9 inHg18 %06:09 am18:51 pm\\n 6\\n\\n  +81°\\n\\n  +61°\\n\\n  10.1 mph W 28.9 inHg18 %06:08 am18:52 pm\\n 7\\n\\n  +86°\\n\\n  +61°\\n\\n  8.1 mph SW 28.9 inHg14 %06:07 am18:53 pm\\n 8\\n\\n  +91°\\n\\n  +64°\\n\\n  7.8 mph W 28.8 inHg13 %06:05 am18:54 pm\\n 9\\n\\n  +95°\\n\\n  +68°\\n\\n  8.3 mph W 28.9 inHg13 %06:04 am18:54 pm\\n 10\\n\\n  +99°\\n\\n  +70°\\n\\n  7.4 mph W 28.9 inHg13 %06:03 am18:55 pm\\n 11\\n\\n  +100°\\n\\n  +72°\\n\\n  7.2 mph W 28.7 inHg13 %06:02 am18:56 pm\\n 12\\n\\n  +99° [...] +77°\\n\\n  +61°\\n\\n  12.1 mph W 28.7 inHg20 %05:43 am19:08 pm\\n 28\\n\\n  +81°\\n\\n  +61°\\n\\n  8.3 mph W 28.7 inHg22 %05:42 am19:09 pm\\n 29\\n\\n  +84°\\n\\n  +64°\\n\\n  10.5 mph W 28.7 inHg15 %05:41 am19:09 pm\\n 30\\n\\n  +88°\\n\\n  +66°\\n\\n  8.7 mph W 28.7 inHg17 %05:40 am19:10 pm\\n\\n  \\n\\n## Average weather in April 2025\\n\\n0 days\\n\\nPrecipitation\\n\\n7 days\\n\\nCloudy\\n\\n23 days\\n\\nSunny\\n\\nDay\\n\\n+85\\n\\n°F\\n\\nNight\\n\\n+64\\n\\n°F\\n\\nCompare with another month\\n\\n## Extended weather forecast in Phoenix\\n\\nHourlyWeek10-Day14-Day30-DayYear\\nhttps://www.weather.gov/wrh/climate?wfo=psr 2 April 2025 Climate Summary NWS Phoenix, AZ Yuma, AZ 2025 Normal 1991-2020 2025 Normal 1991-2020 2025 Normal 1991-2020 Average High Temperature 87.3 °F 86.4 °F Mean Temperature 73.4 °F 73.1 °F Average Low Temperature 59.6 °F 59.8 °F Departure From Normal 0.9 °F Departure From Normal 0.3 °F Departure From Normal -0.2 °F Rank 1 = Warmest 148 = Coldest 59 Rank 1 = Warmest 148 = Coldest 43 Rank 1 = Warmest 148 = Coldest 29 Record (1878-Now) Warmest [...] https://www.weather.gov/wrh/climate?wfo=psr 3 April 2025 Climate Summary NWS Phoenix, AZ El Centro, CA 2025 Normal 1991-2020 2025 Normal 1991-2020 2025 Normal 1991-2020 Average High Temperature 86.6 °F 86.3 °F Mean Temperature 71.5 °F 70.9 °F Average Low Temperature 56.5 °F 55.5 °F Departure From Normal 0.3 °F Departure From Normal 0.6 °F Departure From Normal 1.0 °F Rank 1 = Warmest 100 = Coldest 48 Rank 1 = Warmest 100 = Coldest 37 Rank 1 = Warmest 100 = Coldest 28 Record (1926-Now) Warmest [...] 1 April 2025 Climate Summary NWS Phoenix, AZ Phoenix, AZ 2025 Normal 1991-2020 2025 Normal 1991-2020 2025 Normal 1991-2020 Average High Temperature 87.1 °F 85.5 °F Mean Temperature 74.6 °F 73.2 °F Average Low Temperature 62.1 °F 60.8 °F Departure From Normal 1.6 °F Departure From Normal 1.4 °F Departure From Normal 1.3 °F Rank 1 = Warmest 130 = Coldest 29 Rank 1 = Warmest 130 = Coldest 18 Rank 1 = Warmest 130 = Coldest 15 Record (1896-Now) Warmest Coolest Record (1896-Now) Warmest Coolest Record\\nprecipitation was near normal for much of the state, ranging into above normal for parts of central and northern Arizona, and below normal in the southwest and northeast of the state. [...] forecast, the spread among models includes models that predict El Niño SSTs, La Niña SSTs, and a range of ENSO-neutral values in between. Source: The International Research Institute for Climate and Society, Columbia University Climate School Seasonal Forecasts The May – July seasonal precipitation forecast gives equal chances of above normal, below normal, or near normal precipitation for an area that includes most of Arizona and New Mexico. The forecast leans toward (33 – 40% chance) above [...] Source: Climate Prediction Center (NOAA) The May – July seasonal temperature forecast says above normal temperatures are likely (50 – 70% chance) for an area that includes Arizona and New Mexico. Source: Climate Prediction Center (NOAA) Wildfire The potential for significant wildland fire will be elevated for much of Arizona and New Mexico in the coming months. In May the elevated fire potential is expected across all regions of Arizona and New Mexico except for eastern New Mexico, the\\nwere in one of these two categories, with over 50% of Arizona in extreme or exceptional drought.\\nHow hot will summer be? See what new report predicts for Arizona, plus monsoon forecast\\n\\nBuckle up, Arizona. Summer is almost here and most weather experts agree it's going to be another hot one.\\n\\nAccuweather released its summer weather forecast for the United States on April 30, showing how hot it will be, how monsoon may go and how the drought will be affected. [...] Their forecast shows it will be 1-2 degrees hotter than historical averages in eastern Arizona and 2-3 degrees hotter in western Arizona. It's tough to tell which side of that line metro Phoenix falls on, but either way you know it will be warm. [...] However, it may not be as hot as it was in 2024. Accuweather's team charted the number of 90 degrees forecast for cities across the country. They expect Phoenix will see 168-172 days at or above 90 degrees, which is below the 2024 total (188 days) and the 30-year historical average (175 days).\")]\n",
            "\n",
            "Num Steps: 4\n",
            "\n",
            "Info Needed: False \n",
            "\n",
            "'Finished running: state_printer:'\n"
          ]
        }
      ]
    },
    {
      "cell_type": "code",
      "source": [
        "output = app.invoke(inputs)\n",
        "\n",
        "print(output[\"final_email\"])\n"
      ],
      "metadata": {
        "colab": {
          "base_uri": "https://localhost:8080/"
        },
        "id": "IbNgKkh95eA-",
        "outputId": "c8a378d8-1724-4948-aab1-17bc16b2d7f9"
      },
      "execution_count": 100,
      "outputs": [
        {
          "output_type": "stream",
          "name": "stdout",
          "text": [
            "----CATEGORIZE INITIAL EMAIL----\n",
            "customer_feedback\n",
            "----ROUTE TO RESEARCH----\n",
            "{'router_decision': 'research_info'}\n",
            "research_info\n",
            "---ROUTE EMAIL TO RESEARCH INFO---\n",
            "---RESEARCH INFO SEARCHING---\n",
            "Arizona weather April\n",
            "[Document(metadata={}, page_content=\"Weather\\n Archive\\n Weather Widget\\n\\n World\\n United States\\n Arizona\\n Weather in Phoenix\\n\\n# Weather in Phoenix in April 2025\\n\\nPhoenix Weather Forecast for April 2025 is based on statistical data.\\n\\nJanFebMarAprMayJunJulAugSepOctNovDec\\n\\n  \\n\\n## April\\n\\nStart Week On\\n\\n Sun\\n Mon\\n Tue\\n Wed\\n Thu\\n Fri\\n Sat\\n\\n +73°\\n\\n  16.6 mph W 28.5 inHg22 %06:14 am18:48 pm\\n +63°\\n\\n  15.2 mph W 28.6 inHg33 %06:13 am18:49 pm\\n +68°\\n\\n  +52°\\n\\n  9.8 mph S 28.7 inHg20 %06:12 am18:50 pm\\n 4\\n\\n  +70°\\n\\n  +55° [...] 10.5 mph W 28.7 inHg22 %06:11 am18:51 pm\\n 5\\n\\n  +77°\\n\\n  +57°\\n\\n  10.7 mph NW 28.9 inHg18 %06:09 am18:51 pm\\n 6\\n\\n  +81°\\n\\n  +61°\\n\\n  10.1 mph W 28.9 inHg18 %06:08 am18:52 pm\\n 7\\n\\n  +86°\\n\\n  +61°\\n\\n  8.1 mph SW 28.9 inHg14 %06:07 am18:53 pm\\n 8\\n\\n  +91°\\n\\n  +64°\\n\\n  7.8 mph W 28.8 inHg13 %06:05 am18:54 pm\\n 9\\n\\n  +95°\\n\\n  +68°\\n\\n  8.3 mph W 28.9 inHg13 %06:04 am18:54 pm\\n 10\\n\\n  +99°\\n\\n  +70°\\n\\n  7.4 mph W 28.9 inHg13 %06:03 am18:55 pm\\n 11\\n\\n  +100°\\n\\n  +72°\\n\\n  7.2 mph W 28.7 inHg13 %06:02 am18:56 pm\\n 12\\n\\n  +99° [...] +77°\\n\\n  +61°\\n\\n  12.1 mph W 28.7 inHg20 %05:43 am19:08 pm\\n 28\\n\\n  +81°\\n\\n  +61°\\n\\n  8.3 mph W 28.7 inHg22 %05:42 am19:09 pm\\n 29\\n\\n  +84°\\n\\n  +64°\\n\\n  10.5 mph W 28.7 inHg15 %05:41 am19:09 pm\\n 30\\n\\n  +88°\\n\\n  +66°\\n\\n  8.7 mph W 28.7 inHg17 %05:40 am19:10 pm\\n\\n  \\n\\n## Average weather in April 2025\\n\\n0 days\\n\\nPrecipitation\\n\\n7 days\\n\\nCloudy\\n\\n23 days\\n\\nSunny\\n\\nDay\\n\\n+85\\n\\n°F\\n\\nNight\\n\\n+64\\n\\n°F\\n\\nCompare with another month\\n\\n## Extended weather forecast in Phoenix\\n\\nHourlyWeek10-Day14-Day30-DayYear\\nhttps://www.weather.gov/wrh/climate?wfo=psr 2 April 2025 Climate Summary NWS Phoenix, AZ Yuma, AZ 2025 Normal 1991-2020 2025 Normal 1991-2020 2025 Normal 1991-2020 Average High Temperature 87.3 °F 86.4 °F Mean Temperature 73.4 °F 73.1 °F Average Low Temperature 59.6 °F 59.8 °F Departure From Normal 0.9 °F Departure From Normal 0.3 °F Departure From Normal -0.2 °F Rank 1 = Warmest 148 = Coldest 59 Rank 1 = Warmest 148 = Coldest 43 Rank 1 = Warmest 148 = Coldest 29 Record (1878-Now) Warmest [...] https://www.weather.gov/wrh/climate?wfo=psr 3 April 2025 Climate Summary NWS Phoenix, AZ El Centro, CA 2025 Normal 1991-2020 2025 Normal 1991-2020 2025 Normal 1991-2020 Average High Temperature 86.6 °F 86.3 °F Mean Temperature 71.5 °F 70.9 °F Average Low Temperature 56.5 °F 55.5 °F Departure From Normal 0.3 °F Departure From Normal 0.6 °F Departure From Normal 1.0 °F Rank 1 = Warmest 100 = Coldest 48 Rank 1 = Warmest 100 = Coldest 37 Rank 1 = Warmest 100 = Coldest 28 Record (1926-Now) Warmest [...] 1 April 2025 Climate Summary NWS Phoenix, AZ Phoenix, AZ 2025 Normal 1991-2020 2025 Normal 1991-2020 2025 Normal 1991-2020 Average High Temperature 87.1 °F 85.5 °F Mean Temperature 74.6 °F 73.2 °F Average Low Temperature 62.1 °F 60.8 °F Departure From Normal 1.6 °F Departure From Normal 1.4 °F Departure From Normal 1.3 °F Rank 1 = Warmest 130 = Coldest 29 Rank 1 = Warmest 130 = Coldest 18 Rank 1 = Warmest 130 = Coldest 15 Record (1896-Now) Warmest Coolest Record (1896-Now) Warmest Coolest Record\\nprecipitation was near normal for much of the state, ranging into above normal for parts of central and northern Arizona, and below normal in the southwest and northeast of the state. [...] forecast, the spread among models includes models that predict El Niño SSTs, La Niña SSTs, and a range of ENSO-neutral values in between. Source: The International Research Institute for Climate and Society, Columbia University Climate School Seasonal Forecasts The May – July seasonal precipitation forecast gives equal chances of above normal, below normal, or near normal precipitation for an area that includes most of Arizona and New Mexico. The forecast leans toward (33 – 40% chance) above [...] Source: Climate Prediction Center (NOAA) The May – July seasonal temperature forecast says above normal temperatures are likely (50 – 70% chance) for an area that includes Arizona and New Mexico. Source: Climate Prediction Center (NOAA) Wildfire The potential for significant wildland fire will be elevated for much of Arizona and New Mexico in the coming months. In May the elevated fire potential is expected across all regions of Arizona and New Mexico except for eastern New Mexico, the\\nwere in one of these two categories, with over 50% of Arizona in extreme or exceptional drought.\\nHow hot will summer be? See what new report predicts for Arizona, plus monsoon forecast\\n\\nBuckle up, Arizona. Summer is almost here and most weather experts agree it's going to be another hot one.\\n\\nAccuweather released its summer weather forecast for the United States on April 30, showing how hot it will be, how monsoon may go and how the drought will be affected. [...] Their forecast shows it will be 1-2 degrees hotter than historical averages in eastern Arizona and 2-3 degrees hotter in western Arizona. It's tough to tell which side of that line metro Phoenix falls on, but either way you know it will be warm. [...] However, it may not be as hot as it was in 2024. Accuweather's team charted the number of 90 degrees forecast for cities across the country. They expect Phoenix will see 168-172 days at or above 90 degrees, which is below the 2024 total (188 days) and the 30-year historical average (175 days).\")]\n",
            "<class 'list'>\n",
            "----DRAFT EMAIL WRITER----\n",
            "{'email_draft': \"Dear George,\\n\\nThank you for taking the time to share your thoughts about your recent experience at our resort. We appreciate your feedback and apologize that the weather did not meet your expectations. We understand that the cloudy and overcast conditions may have been disappointing, especially if you were looking forward to sunny days.\\n\\nRegarding your question about the weather in Arizona in April, according to our research, the average high temperature in Phoenix, Arizona in April is around 85°F (29°C) and the average low temperature is around 64°F (18°C). It's not uncommon to have some cloudy days during this time, but we typically expect more sunny days than cloudy ones.\\n\\nWe appreciate your creative idea for a song, 'Here comes the sun but it never came.' We hope that you will give us another chance to show you a more sunny side of Arizona in the future.\\n\\nThank you again for your feedback. We value your opinion and will take it into consideration as we continue to improve our services.\\n\\nBest regards,\\nKathy, General Manager\"}\n",
            "---ROUTE TO REWRITE---\n",
            "{'router_decision': 'no_rewrite'}\n",
            "no_rewrite\n",
            "---ROUTE EMAIL TO FINAL EMAIL---\n",
            "---NO REWRITE EMAIL ---\n",
            "----STATE PRINTER----\n",
            "Initial Email: HI there, \n",
            "\n",
            "I am emailing to say that the resort weather was way to cloudy and overcast. \n",
            "\n",
            "I wanted to write a song called 'Here comes the sun but it never came'\n",
            "\n",
            "\n",
            "What should be the weather in Arizona in April?\n",
            "\n",
            "\n",
            "I really hope you fix this next time.\n",
            "\n",
            "\n",
            "Thanks,\n",
            "George\n",
            "\n",
            "\n",
            "Email Category: customer_feedback\n",
            "\n",
            "Draft Email: Dear George,\n",
            "\n",
            "Thank you for taking the time to share your thoughts about your recent experience at our resort. We appreciate your feedback and apologize that the weather did not meet your expectations. We understand that the cloudy and overcast conditions may have been disappointing, especially if you were looking forward to sunny days.\n",
            "\n",
            "Regarding your question about the weather in Arizona in April, according to our research, the average high temperature in Phoenix, Arizona in April is around 85°F (29°C) and the average low temperature is around 64°F (18°C). It's not uncommon to have some cloudy days during this time, but we typically expect more sunny days than cloudy ones.\n",
            "\n",
            "We appreciate your creative idea for a song, 'Here comes the sun but it never came.' We hope that you will give us another chance to show you a more sunny side of Arizona in the future.\n",
            "\n",
            "Thank you again for your feedback. We value your opinion and will take it into consideration as we continue to improve our services.\n",
            "\n",
            "Best regards,\n",
            "Kathy, General Manager\n",
            "\n",
            "Final Email: Dear George,\n",
            "\n",
            "Thank you for taking the time to share your thoughts about your recent experience at our resort. We appreciate your feedback and apologize that the weather did not meet your expectations. We understand that the cloudy and overcast conditions may have been disappointing, especially if you were looking forward to sunny days.\n",
            "\n",
            "Regarding your question about the weather in Arizona in April, according to our research, the average high temperature in Phoenix, Arizona in April is around 85°F (29°C) and the average low temperature is around 64°F (18°C). It's not uncommon to have some cloudy days during this time, but we typically expect more sunny days than cloudy ones.\n",
            "\n",
            "We appreciate your creative idea for a song, 'Here comes the sun but it never came.' We hope that you will give us another chance to show you a more sunny side of Arizona in the future.\n",
            "\n",
            "Thank you again for your feedback. We value your opinion and will take it into consideration as we continue to improve our services.\n",
            "\n",
            "Best regards,\n",
            "Kathy, General Manager\n",
            "\n",
            "Research Info: [Document(metadata={}, page_content=\"Weather\\n Archive\\n Weather Widget\\n\\n World\\n United States\\n Arizona\\n Weather in Phoenix\\n\\n# Weather in Phoenix in April 2025\\n\\nPhoenix Weather Forecast for April 2025 is based on statistical data.\\n\\nJanFebMarAprMayJunJulAugSepOctNovDec\\n\\n  \\n\\n## April\\n\\nStart Week On\\n\\n Sun\\n Mon\\n Tue\\n Wed\\n Thu\\n Fri\\n Sat\\n\\n +73°\\n\\n  16.6 mph W 28.5 inHg22 %06:14 am18:48 pm\\n +63°\\n\\n  15.2 mph W 28.6 inHg33 %06:13 am18:49 pm\\n +68°\\n\\n  +52°\\n\\n  9.8 mph S 28.7 inHg20 %06:12 am18:50 pm\\n 4\\n\\n  +70°\\n\\n  +55° [...] 10.5 mph W 28.7 inHg22 %06:11 am18:51 pm\\n 5\\n\\n  +77°\\n\\n  +57°\\n\\n  10.7 mph NW 28.9 inHg18 %06:09 am18:51 pm\\n 6\\n\\n  +81°\\n\\n  +61°\\n\\n  10.1 mph W 28.9 inHg18 %06:08 am18:52 pm\\n 7\\n\\n  +86°\\n\\n  +61°\\n\\n  8.1 mph SW 28.9 inHg14 %06:07 am18:53 pm\\n 8\\n\\n  +91°\\n\\n  +64°\\n\\n  7.8 mph W 28.8 inHg13 %06:05 am18:54 pm\\n 9\\n\\n  +95°\\n\\n  +68°\\n\\n  8.3 mph W 28.9 inHg13 %06:04 am18:54 pm\\n 10\\n\\n  +99°\\n\\n  +70°\\n\\n  7.4 mph W 28.9 inHg13 %06:03 am18:55 pm\\n 11\\n\\n  +100°\\n\\n  +72°\\n\\n  7.2 mph W 28.7 inHg13 %06:02 am18:56 pm\\n 12\\n\\n  +99° [...] +77°\\n\\n  +61°\\n\\n  12.1 mph W 28.7 inHg20 %05:43 am19:08 pm\\n 28\\n\\n  +81°\\n\\n  +61°\\n\\n  8.3 mph W 28.7 inHg22 %05:42 am19:09 pm\\n 29\\n\\n  +84°\\n\\n  +64°\\n\\n  10.5 mph W 28.7 inHg15 %05:41 am19:09 pm\\n 30\\n\\n  +88°\\n\\n  +66°\\n\\n  8.7 mph W 28.7 inHg17 %05:40 am19:10 pm\\n\\n  \\n\\n## Average weather in April 2025\\n\\n0 days\\n\\nPrecipitation\\n\\n7 days\\n\\nCloudy\\n\\n23 days\\n\\nSunny\\n\\nDay\\n\\n+85\\n\\n°F\\n\\nNight\\n\\n+64\\n\\n°F\\n\\nCompare with another month\\n\\n## Extended weather forecast in Phoenix\\n\\nHourlyWeek10-Day14-Day30-DayYear\\nhttps://www.weather.gov/wrh/climate?wfo=psr 2 April 2025 Climate Summary NWS Phoenix, AZ Yuma, AZ 2025 Normal 1991-2020 2025 Normal 1991-2020 2025 Normal 1991-2020 Average High Temperature 87.3 °F 86.4 °F Mean Temperature 73.4 °F 73.1 °F Average Low Temperature 59.6 °F 59.8 °F Departure From Normal 0.9 °F Departure From Normal 0.3 °F Departure From Normal -0.2 °F Rank 1 = Warmest 148 = Coldest 59 Rank 1 = Warmest 148 = Coldest 43 Rank 1 = Warmest 148 = Coldest 29 Record (1878-Now) Warmest [...] https://www.weather.gov/wrh/climate?wfo=psr 3 April 2025 Climate Summary NWS Phoenix, AZ El Centro, CA 2025 Normal 1991-2020 2025 Normal 1991-2020 2025 Normal 1991-2020 Average High Temperature 86.6 °F 86.3 °F Mean Temperature 71.5 °F 70.9 °F Average Low Temperature 56.5 °F 55.5 °F Departure From Normal 0.3 °F Departure From Normal 0.6 °F Departure From Normal 1.0 °F Rank 1 = Warmest 100 = Coldest 48 Rank 1 = Warmest 100 = Coldest 37 Rank 1 = Warmest 100 = Coldest 28 Record (1926-Now) Warmest [...] 1 April 2025 Climate Summary NWS Phoenix, AZ Phoenix, AZ 2025 Normal 1991-2020 2025 Normal 1991-2020 2025 Normal 1991-2020 Average High Temperature 87.1 °F 85.5 °F Mean Temperature 74.6 °F 73.2 °F Average Low Temperature 62.1 °F 60.8 °F Departure From Normal 1.6 °F Departure From Normal 1.4 °F Departure From Normal 1.3 °F Rank 1 = Warmest 130 = Coldest 29 Rank 1 = Warmest 130 = Coldest 18 Rank 1 = Warmest 130 = Coldest 15 Record (1896-Now) Warmest Coolest Record (1896-Now) Warmest Coolest Record\\nprecipitation was near normal for much of the state, ranging into above normal for parts of central and northern Arizona, and below normal in the southwest and northeast of the state. [...] forecast, the spread among models includes models that predict El Niño SSTs, La Niña SSTs, and a range of ENSO-neutral values in between. Source: The International Research Institute for Climate and Society, Columbia University Climate School Seasonal Forecasts The May – July seasonal precipitation forecast gives equal chances of above normal, below normal, or near normal precipitation for an area that includes most of Arizona and New Mexico. The forecast leans toward (33 – 40% chance) above [...] Source: Climate Prediction Center (NOAA) The May – July seasonal temperature forecast says above normal temperatures are likely (50 – 70% chance) for an area that includes Arizona and New Mexico. Source: Climate Prediction Center (NOAA) Wildfire The potential for significant wildland fire will be elevated for much of Arizona and New Mexico in the coming months. In May the elevated fire potential is expected across all regions of Arizona and New Mexico except for eastern New Mexico, the\\nwere in one of these two categories, with over 50% of Arizona in extreme or exceptional drought.\\nHow hot will summer be? See what new report predicts for Arizona, plus monsoon forecast\\n\\nBuckle up, Arizona. Summer is almost here and most weather experts agree it's going to be another hot one.\\n\\nAccuweather released its summer weather forecast for the United States on April 30, showing how hot it will be, how monsoon may go and how the drought will be affected. [...] Their forecast shows it will be 1-2 degrees hotter than historical averages in eastern Arizona and 2-3 degrees hotter in western Arizona. It's tough to tell which side of that line metro Phoenix falls on, but either way you know it will be warm. [...] However, it may not be as hot as it was in 2024. Accuweather's team charted the number of 90 degrees forecast for cities across the country. They expect Phoenix will see 168-172 days at or above 90 degrees, which is below the 2024 total (188 days) and the 30-year historical average (175 days).\")]\n",
            "\n",
            "Num Steps: 4\n",
            "\n",
            "Info Needed: False \n",
            "\n",
            "Dear George,\n",
            "\n",
            "Thank you for taking the time to share your thoughts about your recent experience at our resort. We appreciate your feedback and apologize that the weather did not meet your expectations. We understand that the cloudy and overcast conditions may have been disappointing, especially if you were looking forward to sunny days.\n",
            "\n",
            "Regarding your question about the weather in Arizona in April, according to our research, the average high temperature in Phoenix, Arizona in April is around 85°F (29°C) and the average low temperature is around 64°F (18°C). It's not uncommon to have some cloudy days during this time, but we typically expect more sunny days than cloudy ones.\n",
            "\n",
            "We appreciate your creative idea for a song, 'Here comes the sun but it never came.' We hope that you will give us another chance to show you a more sunny side of Arizona in the future.\n",
            "\n",
            "Thank you again for your feedback. We value your opinion and will take it into consideration as we continue to improve our services.\n",
            "\n",
            "Best regards,\n",
            "Kathy, General Manager\n"
          ]
        }
      ]
    }
  ]
}